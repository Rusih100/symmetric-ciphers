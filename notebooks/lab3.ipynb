{
 "cells": [
  {
   "cell_type": "code",
   "execution_count": 10,
   "outputs": [],
   "source": [
    "INPUT_FILE_PATH = r\"D:\\Pycharm-project\\crypto_labs\\data\\lab3\\1.15\""
   ],
   "metadata": {
    "collapsed": false,
    "ExecuteTime": {
     "end_time": "2023-12-12T05:21:36.515274900Z",
     "start_time": "2023-12-12T05:21:36.514762300Z"
    }
   },
   "id": "a6db92771fca6f43"
  },
  {
   "cell_type": "code",
   "execution_count": null,
   "outputs": [],
   "source": [
    "with open():\n",
    "    ..."
   ],
   "metadata": {
    "collapsed": false
   },
   "id": "2f9712d172e890d0"
  }
 ],
 "metadata": {
  "kernelspec": {
   "display_name": "Python 3",
   "language": "python",
   "name": "python3"
  },
  "language_info": {
   "codemirror_mode": {
    "name": "ipython",
    "version": 2
   },
   "file_extension": ".py",
   "mimetype": "text/x-python",
   "name": "python",
   "nbconvert_exporter": "python",
   "pygments_lexer": "ipython2",
   "version": "2.7.6"
  }
 },
 "nbformat": 4,
 "nbformat_minor": 5
}
